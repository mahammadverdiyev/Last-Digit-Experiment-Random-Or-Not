{
 "cells": [
  {
   "cell_type": "code",
   "execution_count": 18,
   "metadata": {},
   "outputs": [],
   "source": [
    "import random\n",
    "import numpy as np \n",
    "import seaborn as sn \n",
    "import matplotlib.pyplot as plt "
   ]
  },
  {
   "cell_type": "markdown",
   "metadata": {},
   "source": [
    "this is very basic method to create a random generated 1D array of 10 elements"
   ]
  },
  {
   "cell_type": "code",
   "execution_count": 55,
   "metadata": {},
   "outputs": [
    {
     "data": {
      "text/plain": [
       "array([0, 1, 2, 3, 4, 5, 6, 7, 8, 9])"
      ]
     },
     "execution_count": 55,
     "metadata": {},
     "output_type": "execute_result"
    }
   ],
   "source": [
    "arr = np.arange(0,10)\n",
    "arr"
   ]
  },
  {
   "cell_type": "markdown",
   "metadata": {},
   "source": [
    "this line makes a 2D array by multiplying the 1D array with itself and taking the last digit (mod 10)\n"
   ]
  },
  {
   "cell_type": "code",
   "execution_count": 56,
   "metadata": {},
   "outputs": [
    {
     "data": {
      "text/plain": [
       "array([[0, 0, 0, 0, 0, 0, 0, 0, 0, 0],\n",
       "       [0, 1, 2, 3, 4, 5, 6, 7, 8, 9],\n",
       "       [0, 2, 4, 6, 8, 0, 2, 4, 6, 8],\n",
       "       [0, 3, 6, 9, 2, 5, 8, 1, 4, 7],\n",
       "       [0, 4, 8, 2, 6, 0, 4, 8, 2, 6],\n",
       "       [0, 5, 0, 5, 0, 5, 0, 5, 0, 5],\n",
       "       [0, 6, 2, 8, 4, 0, 6, 2, 8, 4],\n",
       "       [0, 7, 4, 1, 8, 5, 2, 9, 6, 3],\n",
       "       [0, 8, 6, 4, 2, 0, 8, 6, 4, 2],\n",
       "       [0, 9, 8, 7, 6, 5, 4, 3, 2, 1]], dtype=int32)"
      ]
     },
     "execution_count": 56,
     "metadata": {},
     "output_type": "execute_result"
    }
   ],
   "source": [
    "result_multiplication_last_digit = np.outer(arr, arr) % 10\n",
    "# let's see how it looks like\n",
    "result_multiplication_last_digit"
   ]
  },
  {
   "cell_type": "code",
   "execution_count": 104,
   "metadata": {},
   "outputs": [
    {
     "data": {
      "text/plain": [
       "array([0, 0, 0, 0, 0, 0, 0, 0, 0, 0, 0, 1, 2, 3, 4, 5, 6, 7, 8, 9, 0, 2,\n",
       "       4, 6, 8, 0, 2, 4, 6, 8, 0, 3, 6, 9, 2, 5, 8, 1, 4, 7, 0, 4, 8, 2,\n",
       "       6, 0, 4, 8, 2, 6, 0, 5, 0, 5, 0, 5, 0, 5, 0, 5, 0, 6, 2, 8, 4, 0,\n",
       "       6, 2, 8, 4, 0, 7, 4, 1, 8, 5, 2, 9, 6, 3, 0, 8, 6, 4, 2, 0, 8, 6,\n",
       "       4, 2, 0, 9, 8, 7, 6, 5, 4, 3, 2, 1], dtype=int32)"
      ]
     },
     "execution_count": 104,
     "metadata": {},
     "output_type": "execute_result"
    }
   ],
   "source": [
    "# in order to count the occurrences of each digit, \n",
    "# here I am turning that 2D array to its 1D version.\n",
    "# numpy has an amazing method called flatten() which does that for us :)\n",
    "\n",
    "result_1d = result_multiplication_last_digit.flatten()\n",
    "result_1d"
   ]
  },
  {
   "cell_type": "markdown",
   "metadata": {},
   "source": [
    "  Here, we are now left to create a frequency dictionary to count the number of times each number appears in the result_1d array.\n"
   ]
  },
  {
   "cell_type": "code",
   "execution_count": 102,
   "metadata": {},
   "outputs": [
    {
     "name": "stdout",
     "output_type": "stream",
     "text": [
      "Counts {0: 27, 1: 4, 2: 12, 3: 4, 4: 12, 5: 9, 6: 12, 7: 4, 8: 12, 9: 4}\n"
     ]
    }
   ],
   "source": [
    "counts = dict()\n",
    "\n",
    "for num in result_1d:\n",
    "    if num in counts:\n",
    "        counts[num] += 1\n",
    "    else:\n",
    "        counts[num] = 1\n",
    "\n",
    "print(f'Counts {counts}')"
   ]
  },
  {
   "cell_type": "code",
   "execution_count": 105,
   "metadata": {},
   "outputs": [
    {
     "data": {
      "image/png": "[encoded data removed]",
      "text/plain": [
       "<Figure size 640x480 with 1 Axes>"
      ]
     },
     "metadata": {},
     "output_type": "display_data"
    }
   ],
   "source": [
    "plt.bar(counts.keys(), counts.values())\n",
    "plt.xticks(rotation=45, ha='right')\n",
    "plt.show()"
   ]
  },
  {
   "cell_type": "markdown",
   "metadata": {},
   "source": [
    " <p> In the bar chart, you can see that the last digit of the multiplication of two numbers is not uniformly distributed some numbers are more likely to appear than others.\n",
    "<br>\n",
    " For example, 0, 2, 4, 5, 6, 8 are more likely to appear than others.\n",
    " </p>"
   ]
  },
  {
   "cell_type": "markdown",
   "metadata": {},
   "source": [
    "---"
   ]
  },
  {
   "cell_type": "markdown",
   "metadata": {},
   "source": [
    "<p> Now let's see if that is true for the sum of two numbers. In order to do that, I am not going to write all of the code again,instead I will make our code in a modular way so that we can reuse it. </p>"
   ]
  },
  {
   "cell_type": "code",
   "execution_count": null,
   "metadata": {},
   "outputs": [],
   "source": [
    "# Here is the code that I come up with\n",
    "\n",
    "\n",
    "OPERATION_SUM = np.add.outer\n",
    "OPERATION_MULTIPLICATION = np.multiply.outer\n",
    "\n",
    "# This function takes an array and an operation as input and \n",
    "# returns the distribution of the last digit of the result of the operation\n",
    "def last_digit_distribution(arr,operation):\n",
    "    result_multiplication_last_digit = operation(arr,arr) % 10\n",
    "    result_1d = result_multiplication_last_digit.flatten()\n",
    "    counts = dict()\n",
    "\n",
    "    for num in result_1d:\n",
    "        if num in counts:\n",
    "            counts[num] += 1\n",
    "        else:\n",
    "            counts[num] = 1\n",
    "\n",
    "    return counts"
   ]
  },
  {
   "cell_type": "code",
   "execution_count": 72,
   "metadata": {},
   "outputs": [
    {
     "data": {
      "image/png": "[encoded data removed]",
      "text/plain": [
       "<Figure size 640x480 with 1 Axes>"
      ]
     },
     "metadata": {},
     "output_type": "display_data"
    },
    {
     "data": {
      "text/plain": [
       "{0: 27, 1: 4, 2: 12, 3: 4, 4: 12, 5: 9, 6: 12, 7: 4, 8: 12, 9: 4}"
      ]
     },
     "execution_count": 72,
     "metadata": {},
     "output_type": "execute_result"
    }
   ],
   "source": [
    "counts = last_digit_distribution(arr, OPERATION_MULTIPLICATION)\n",
    "plt.bar(counts.keys(), counts.values())\n",
    "plt.xticks(rotation=45, ha='right')\n",
    "plt.show()\n",
    "counts"
   ]
  },
  {
   "cell_type": "markdown",
   "metadata": {},
   "source": [
    "You can see that the result is the same as before"
   ]
  },
  {
   "cell_type": "markdown",
   "metadata": {},
   "source": [
    "---\n"
   ]
  },
  {
   "cell_type": "markdown",
   "metadata": {},
   "source": [
    "##### Now lets make the same for **OPERATION_SUM**"
   ]
  },
  {
   "cell_type": "code",
   "execution_count": 73,
   "metadata": {},
   "outputs": [
    {
     "data": {
      "image/png": "[encoded data removed]",
      "text/plain": [
       "<Figure size 640x480 with 1 Axes>"
      ]
     },
     "metadata": {},
     "output_type": "display_data"
    }
   ],
   "source": [
    "counts = last_digit_distribution(arr, OPERATION_SUM)\n",
    "plt.bar(counts.keys(), counts.values())\n",
    "plt.xticks(rotation=45, ha='right')\n",
    "plt.show()"
   ]
  },
  {
   "cell_type": "markdown",
   "metadata": {},
   "source": [
    "So in this result, you can see that the last digit of the sum of two numbers is uniformly distributed"
   ]
  },
  {
   "cell_type": "markdown",
   "metadata": {},
   "source": [
    "---"
   ]
  },
  {
   "cell_type": "markdown",
   "metadata": {},
   "source": [
    "<p> Now lets make the real world example.\n",
    "I'll generate random numbers and plot the distribution of the last digits from their multiplication and addition\n",
    "</p>"
   ]
  },
  {
   "cell_type": "code",
   "execution_count": 106,
   "metadata": {},
   "outputs": [],
   "source": [
    "\n",
    "def inner_sum(a,b):\n",
    "    return a+b\n",
    "\n",
    "def inner_product(a,b):\n",
    "    return a*b\n",
    "\n",
    "def last_digit_frequency(num_trials, operation) -> dict:\n",
    "    last_digit_counts = []\n",
    "\n",
    "    for _ in range(num_trials):\n",
    "        a = random.randint(1, 100)\n",
    "        b = random.randint(1, 100)\n",
    "        result = operation(a, b)\n",
    "        last_digit = result % 10\n",
    "        last_digit_counts.append(last_digit)\n",
    "\n",
    "    counts = {num: last_digit_counts.count(num) for num in set(last_digit_counts)}\n",
    "\n",
    "    return counts"
   ]
  },
  {
   "cell_type": "code",
   "execution_count": 107,
   "metadata": {},
   "outputs": [
    {
     "data": {
      "image/png": "[encoded data removed]",
      "text/plain": [
       "<Figure size 640x480 with 1 Axes>"
      ]
     },
     "metadata": {},
     "output_type": "display_data"
    }
   ],
   "source": [
    "# Lets first test our function with sum operation for 100 trials\n",
    "\n",
    "TRIALS = 100\n",
    "last_digit_counts = last_digit_frequency(TRIALS,inner_sum)\n",
    "plt.bar(last_digit_counts.keys(), last_digit_counts.values())\n",
    "plt.show()"
   ]
  },
  {
   "cell_type": "markdown",
   "metadata": {},
   "source": [
    "in the result you can see that the last digit of the sum of two random numbers is not uniformly distributed\n",
    "<br>\n",
    "Why?<br>\n",
    "this is because our trial is too small! we only did 100 trials"
   ]
  },
  {
   "cell_type": "markdown",
   "metadata": {},
   "source": [
    "----"
   ]
  },
  {
   "cell_type": "code",
   "execution_count": 84,
   "metadata": {},
   "outputs": [
    {
     "data": {
      "image/png": "[encoded data removed]",
      "text/plain": [
       "<Figure size 640x480 with 1 Axes>"
      ]
     },
     "metadata": {},
     "output_type": "display_data"
    }
   ],
   "source": [
    "# lets test our experiment with 1000 trials\n",
    "TRIALS = 1000\n",
    "last_digit_counts = last_digit_frequency(TRIALS,inner_sum)\n",
    "plt.bar(last_digit_counts.keys(), last_digit_counts.values())\n",
    "plt.show()\n"
   ]
  },
  {
   "cell_type": "markdown",
   "metadata": {},
   "source": [
    "now you can see that the distribution is getting closer to uniform distribution\n"
   ]
  },
  {
   "cell_type": "code",
   "execution_count": 92,
   "metadata": {},
   "outputs": [
    {
     "data": {
      "image/png": "[encoded data removed]",
      "text/plain": [
       "<Figure size 640x480 with 1 Axes>"
      ]
     },
     "metadata": {},
     "output_type": "display_data"
    }
   ],
   "source": [
    "# lets make the same for the for 100000 trials\n",
    "TRIALS = 100000\n",
    "last_digit_counts = last_digit_frequency(TRIALS,inner_sum)\n",
    "plt.bar(last_digit_counts.keys(), last_digit_counts.values())\n",
    "plt.show()"
   ]
  },
  {
   "cell_type": "markdown",
   "metadata": {},
   "source": [
    "So you can see it is almost perfect uniform distribution. <br> \n",
    "So this proves that the last digit of the sum of two random numbers is uniformly distributed"
   ]
  },
  {
   "cell_type": "code",
   "execution_count": 97,
   "metadata": {},
   "outputs": [
    {
     "data": {
      "image/png": "[encoded data removed]",
      "text/plain": [
       "<Figure size 640x480 with 1 Axes>"
      ]
     },
     "metadata": {},
     "output_type": "display_data"
    }
   ],
   "source": [
    "# Let's do the same for the multiplication operation for 100 trials\n",
    "TRIALS = 100\n",
    "last_digit_counts = last_digit_frequency(TRIALS,inner_product)\n",
    "plt.bar(last_digit_counts.keys(), last_digit_counts.values())\n",
    "plt.show()"
   ]
  },
  {
   "cell_type": "code",
   "execution_count": 98,
   "metadata": {},
   "outputs": [
    {
     "data": {
      "image/png": "[encoded data removed]",
      "text/plain": [
       "<Figure size 640x480 with 1 Axes>"
      ]
     },
     "metadata": {},
     "output_type": "display_data"
    }
   ],
   "source": [
    "TRIALS = 1000\n",
    "last_digit_counts = last_digit_frequency(TRIALS,inner_product)\n",
    "plt.bar(last_digit_counts.keys(), last_digit_counts.values())\n",
    "plt.show()"
   ]
  },
  {
   "cell_type": "code",
   "execution_count": 99,
   "metadata": {},
   "outputs": [
    {
     "data": {
      "image/png": "[encoded data removed]",
      "text/plain": [
       "<Figure size 640x480 with 1 Axes>"
      ]
     },
     "metadata": {},
     "output_type": "display_data"
    }
   ],
   "source": [
    "TRIALS = 100000\n",
    "last_digit_counts = last_digit_frequency(TRIALS,inner_product)\n",
    "plt.bar(last_digit_counts.keys(), last_digit_counts.values())\n",
    "plt.show()\n"
   ]
  },
  {
   "cell_type": "markdown",
   "metadata": {},
   "source": [
    "you can see that the last digit of the multiplication of two random numbers is not uniformly distributed. <br>\n",
    "As we saw before, some numbers are more likely to appear than others"
   ]
  },
  {
   "cell_type": "markdown",
   "metadata": {},
   "source": [
    "### What We Learn from This Notebook\n",
    "\n",
    "1. **Last Digit Distribution in Multiplication**:\n",
    "   - When we multiply two numbers, the last digit of the result is **not uniformly distributed**.\n",
    "   - Some last digits are more likely to appear than others. For example:\n",
    "     - Last digits **0, 2, 4, 5, 6,** and **8** are more frequently observed.\n",
    "\n",
    "2. **Last Digit Distribution in Addition**:\n",
    "   - In contrast, when we add two numbers, the last digit of the result is **uniformly distributed**.\n",
    "   - All last digits (0 through 9) are **equally likely** to appear.\n"
   ]
  }
 ],
 "metadata": {
  "kernelspec": {
   "display_name": "Python 3",
   "language": "python",
   "name": "python3"
  },
  "language_info": {
   "codemirror_mode": {
    "name": "ipython",
    "version": 3
   },
   "file_extension": ".py",
   "mimetype": "text/x-python",
   "name": "python",
   "nbconvert_exporter": "python",
   "pygments_lexer": "ipython3",
   "version": "3.11.4"
  }
 },
 "nbformat": 4,
 "nbformat_minor": 2
}
